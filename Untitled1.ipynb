{
 "cells": [
  {
   "cell_type": "code",
   "execution_count": 1,
   "id": "adf9c02c",
   "metadata": {},
   "outputs": [
    {
     "name": "stdout",
     "output_type": "stream",
     "text": [
      "Requirement already satisfied: openpyxl in /Users/moriwakikouta/miniconda3/lib/python3.10/site-packages (3.1.2)\n",
      "Requirement already satisfied: et-xmlfile in /Users/moriwakikouta/miniconda3/lib/python3.10/site-packages (from openpyxl) (1.1.0)\n",
      "Note: you may need to restart the kernel to use updated packages.\n"
     ]
    }
   ],
   "source": [
    "pip install openpyxl"
   ]
  },
  {
   "cell_type": "code",
   "execution_count": 3,
   "id": "aa2dbcb9",
   "metadata": {},
   "outputs": [
    {
     "name": "stdout",
     "output_type": "stream",
     "text": [
      "   Name  Score  Avg  Level  Point\n",
      "0    ちい     10    8      6   3022\n",
      "1  はちわれ     11    9      7   1111\n",
      "2   うさぎ     13    8      3    211\n",
      "3  シーサー      9   13      5   1333\n",
      "4    かに      7   11      7   2221\n"
     ]
    }
   ],
   "source": [
    "import pandas as pd\n",
    "\n",
    "df = pd.read_excel('chiikawa_data.xlsx')\n",
    "print(df)"
   ]
  },
  {
   "cell_type": "code",
   "execution_count": null,
   "id": "c71bd61a",
   "metadata": {},
   "outputs": [],
   "source": []
  },
  {
   "cell_type": "code",
   "execution_count": 6,
   "id": "cae7943c",
   "metadata": {},
   "outputs": [
    {
     "data": {
      "text/plain": [
       "Score      13\n",
       "Avg        13\n",
       "Level       7\n",
       "Point    3022\n",
       "dtype: int64"
      ]
     },
     "execution_count": 6,
     "metadata": {},
     "output_type": "execute_result"
    }
   ],
   "source": [
    "df.max(numeric_only=True)"
   ]
  },
  {
   "cell_type": "code",
   "execution_count": 7,
   "id": "dfd53658",
   "metadata": {},
   "outputs": [
    {
     "data": {
      "text/plain": [
       "0    18132\n",
       "1     7777\n",
       "2      633\n",
       "3     6665\n",
       "4    15547\n",
       "dtype: int64"
      ]
     },
     "execution_count": 7,
     "metadata": {},
     "output_type": "execute_result"
    }
   ],
   "source": [
    "df['Level']*df['Point']"
   ]
  },
  {
   "cell_type": "code",
   "execution_count": 14,
   "id": "e0e01701",
   "metadata": {},
   "outputs": [],
   "source": [
    "df['NAME'] = df['Name']+'さん'"
   ]
  },
  {
   "cell_type": "code",
   "execution_count": null,
   "id": "97c950dd",
   "metadata": {},
   "outputs": [],
   "source": []
  },
  {
   "cell_type": "code",
   "execution_count": null,
   "id": "c6d18249",
   "metadata": {},
   "outputs": [],
   "source": []
  },
  {
   "cell_type": "code",
   "execution_count": null,
   "id": "e3cb0673",
   "metadata": {},
   "outputs": [],
   "source": []
  },
  {
   "cell_type": "code",
   "execution_count": 15,
   "id": "34509cd3",
   "metadata": {},
   "outputs": [
    {
     "data": {
      "text/plain": [
       "Score      13\n",
       "Avg        13\n",
       "Level       7\n",
       "Point    3022\n",
       "dtype: int64"
      ]
     },
     "execution_count": 15,
     "metadata": {},
     "output_type": "execute_result"
    }
   ],
   "source": [
    "df.max(numeric_only=True)"
   ]
  },
  {
   "cell_type": "code",
   "execution_count": 19,
   "id": "b9050938",
   "metadata": {},
   "outputs": [],
   "source": [
    "df['NewPoint']=df['Level']*df['Point']"
   ]
  },
  {
   "cell_type": "code",
   "execution_count": 20,
   "id": "f968b52a",
   "metadata": {},
   "outputs": [],
   "source": [
    "df['NAME'] = df['Name']+'さん'"
   ]
  },
  {
   "cell_type": "code",
   "execution_count": 21,
   "id": "4643d7a2",
   "metadata": {},
   "outputs": [
    {
     "name": "stdout",
     "output_type": "stream",
     "text": [
      "   Name  Score  Avg  Level  Point Name（敬称）    NAME  NewPoint\n",
      "0    ちい     10    8      6   3022     ちいさん    ちいさん     18132\n",
      "1  はちわれ     11    9      7   1111   はちわれさん  はちわれさん      7777\n",
      "2   うさぎ     13    8      3    211    うさぎさん   うさぎさん       633\n",
      "3  シーサー      9   13      5   1333   シーサーさん  シーサーさん      6665\n",
      "4    かに      7   11      7   2221     かにさん    かにさん     15547\n"
     ]
    }
   ],
   "source": [
    "print(df)"
   ]
  }
 ],
 "metadata": {
  "kernelspec": {
   "display_name": "Python 3 (ipykernel)",
   "language": "python",
   "name": "python3"
  },
  "language_info": {
   "codemirror_mode": {
    "name": "ipython",
    "version": 3
   },
   "file_extension": ".py",
   "mimetype": "text/x-python",
   "name": "python",
   "nbconvert_exporter": "python",
   "pygments_lexer": "ipython3",
   "version": "3.10.8"
  }
 },
 "nbformat": 4,
 "nbformat_minor": 5
}
